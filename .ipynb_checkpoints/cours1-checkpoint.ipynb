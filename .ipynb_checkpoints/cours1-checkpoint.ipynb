{
 "cells": [
  {
   "cell_type": "code",
   "execution_count": 1,
   "id": "fccf2b55",
   "metadata": {},
   "outputs": [],
   "source": [
    "#Numpy\n",
    "#Haute performance\n",
    "#calculs robustes\n",
    "\n",
    "import numpy as np"
   ]
  },
  {
   "cell_type": "code",
   "execution_count": 18,
   "id": "a9ea15de",
   "metadata": {},
   "outputs": [],
   "source": [
    "first = np.array([[1, 2, 3], [4, 5, 6]])"
   ]
  },
  {
   "cell_type": "code",
   "execution_count": 10,
   "id": "790c8147",
   "metadata": {},
   "outputs": [],
   "source": [
    "second = np.zeros((2, 3))"
   ]
  },
  {
   "cell_type": "code",
   "execution_count": 12,
   "id": "f89a0c86",
   "metadata": {},
   "outputs": [
    {
     "name": "stdout",
     "output_type": "stream",
     "text": [
      "3\n",
      "[[0. 0. 0.]\n",
      " [0. 0. 0.]]\n"
     ]
    }
   ],
   "source": [
    "print(first.size)\n",
    "print(second)"
   ]
  },
  {
   "cell_type": "code",
   "execution_count": 39,
   "id": "534dd8dc",
   "metadata": {
    "scrolled": false
   },
   "outputs": [
    {
     "data": {
      "text/plain": [
       "array([[ 1.11097654, -0.2886879 , -0.06974606, -1.04749667,  1.        ],\n",
       "       [ 0.46450548, -0.73674588, -1.48106373, -0.26961562,  1.        ],\n",
       "       [-0.77720836, -0.6318359 , -0.40662058,  0.62626424,  1.        ]])"
      ]
     },
     "execution_count": 39,
     "metadata": {},
     "output_type": "execute_result"
    }
   ],
   "source": [
    "def initialisation(m, n):\n",
    "    matrix = np.random.randn(m, n)\n",
    "    matrix = np.concatenate([matrix, np.ones((matrix.shape[0], 1))], 1)\n",
    "    return matrix\n",
    "\n",
    "initialisation(3, 4)"
   ]
  },
  {
   "cell_type": "code",
   "execution_count": 19,
   "id": "cf983662",
   "metadata": {},
   "outputs": [
    {
     "data": {
      "text/plain": [
       "2"
      ]
     },
     "execution_count": 19,
     "metadata": {},
     "output_type": "execute_result"
    }
   ],
   "source": [
    "first[0, 1]"
   ]
  },
  {
   "cell_type": "code",
   "execution_count": 33,
   "id": "46d805c7",
   "metadata": {},
   "outputs": [
    {
     "data": {
      "text/plain": [
       "array([[1, 2],\n",
       "       [4, 5]])"
      ]
     },
     "execution_count": 33,
     "metadata": {},
     "output_type": "execute_result"
    }
   ],
   "source": [
    "first[0:2, 0:2]"
   ]
  },
  {
   "cell_type": "code",
   "execution_count": 34,
   "id": "d4785ff6",
   "metadata": {},
   "outputs": [],
   "source": [
    "B = np.zeros((4, 4))"
   ]
  },
  {
   "cell_type": "code",
   "execution_count": 35,
   "id": "40795961",
   "metadata": {},
   "outputs": [
    {
     "data": {
      "text/plain": [
       "array([[0., 0., 0., 0.],\n",
       "       [0., 0., 0., 0.],\n",
       "       [0., 0., 0., 0.],\n",
       "       [0., 0., 0., 0.]])"
      ]
     },
     "execution_count": 35,
     "metadata": {},
     "output_type": "execute_result"
    }
   ],
   "source": [
    "B"
   ]
  },
  {
   "cell_type": "code",
   "execution_count": 36,
   "id": "4ea752be",
   "metadata": {},
   "outputs": [],
   "source": [
    "B[1:3, 1:3] = 1"
   ]
  },
  {
   "cell_type": "code",
   "execution_count": 37,
   "id": "4e5f6c14",
   "metadata": {},
   "outputs": [
    {
     "data": {
      "text/plain": [
       "array([[0., 0., 0., 0.],\n",
       "       [0., 1., 1., 0.],\n",
       "       [0., 1., 1., 0.],\n",
       "       [0., 0., 0., 0.]])"
      ]
     },
     "execution_count": 37,
     "metadata": {},
     "output_type": "execute_result"
    }
   ],
   "source": [
    "B"
   ]
  },
  {
   "cell_type": "code",
   "execution_count": 41,
   "id": "728f4c0a",
   "metadata": {},
   "outputs": [
    {
     "name": "stdout",
     "output_type": "stream",
     "text": [
      "4.0\n"
     ]
    }
   ],
   "source": [
    "print(B.sum())"
   ]
  },
  {
   "cell_type": "code",
   "execution_count": 60,
   "id": "93a11805",
   "metadata": {},
   "outputs": [
    {
     "ename": "ModuleNotFoundError",
     "evalue": "No module named 'scikitlearn'",
     "output_type": "error",
     "traceback": [
      "\u001b[1;31m---------------------------------------------------------------------------\u001b[0m",
      "\u001b[1;31mModuleNotFoundError\u001b[0m                       Traceback (most recent call last)",
      "Input \u001b[1;32mIn [60]\u001b[0m, in \u001b[0;36m<cell line: 7>\u001b[1;34m()\u001b[0m\n\u001b[0;32m      3\u001b[0m \u001b[38;5;28;01mimport\u001b[39;00m \u001b[38;5;21;01mscipy\u001b[39;00m \u001b[38;5;28;01mas\u001b[39;00m \u001b[38;5;21;01msc\u001b[39;00m\n\u001b[0;32m      5\u001b[0m \u001b[38;5;66;03m#Scikit-Learn\u001b[39;00m\n\u001b[0;32m      6\u001b[0m \u001b[38;5;66;03m#implementer des algorithmes de machine learning\u001b[39;00m\n\u001b[1;32m----> 7\u001b[0m \u001b[38;5;28;01mimport\u001b[39;00m \u001b[38;5;21;01mscikitlearn\u001b[39;00m \u001b[38;5;28;01mas\u001b[39;00m \u001b[38;5;21;01mscikit\u001b[39;00m\n\u001b[0;32m      9\u001b[0m \u001b[38;5;66;03m#Pandas\u001b[39;00m\n\u001b[0;32m     10\u001b[0m \u001b[38;5;66;03m#construite à partir de numpy\u001b[39;00m\n\u001b[0;32m     11\u001b[0m \u001b[38;5;66;03m#calculs et visualisation \u001b[39;00m\n\u001b[0;32m     12\u001b[0m \u001b[38;5;28;01mimport\u001b[39;00m \u001b[38;5;21;01mpandas\u001b[39;00m \u001b[38;5;28;01mas\u001b[39;00m \u001b[38;5;21;01mpd\u001b[39;00m\n",
      "\u001b[1;31mModuleNotFoundError\u001b[0m: No module named 'scikitlearn'"
     ]
    }
   ],
   "source": [
    "#Scipy \n",
    "#Calculs mathematiques scientifiques\n",
    "import scipy as sc\n",
    "\n",
    "#Scikit-Learn\n",
    "#implementer des algorithmes de machine learning\n",
    "\n",
    "\n",
    "#Pandas\n",
    "#construite à partir de numpy\n",
    "#calculs et visualisation \n",
    "import pandas as pd\n",
    "\n",
    "#Matplotlib\n",
    "#visualisation\n",
    "import matplotlib as plt"
   ]
  },
  {
   "cell_type": "code",
   "execution_count": 56,
   "id": "b6fb6cdf",
   "metadata": {},
   "outputs": [],
   "source": [
    "x = np.linspace(0,2,100)\n",
    "y = x**2\n",
    "\n"
   ]
  },
  {
   "cell_type": "code",
   "execution_count": null,
   "id": "86f50a65",
   "metadata": {},
   "outputs": [],
   "source": []
  }
 ],
 "metadata": {
  "kernelspec": {
   "display_name": "Python 3 (ipykernel)",
   "language": "python",
   "name": "python3"
  },
  "language_info": {
   "codemirror_mode": {
    "name": "ipython",
    "version": 3
   },
   "file_extension": ".py",
   "mimetype": "text/x-python",
   "name": "python",
   "nbconvert_exporter": "python",
   "pygments_lexer": "ipython3",
   "version": "3.9.12"
  }
 },
 "nbformat": 4,
 "nbformat_minor": 5
}
