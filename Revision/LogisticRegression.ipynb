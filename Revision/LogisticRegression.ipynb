{
 "cells": [
  {
   "cell_type": "code",
   "execution_count": 2,
   "id": "aeb03515",
   "metadata": {},
   "outputs": [],
   "source": [
    "import numpy as np\n",
    "import pandas as pd \n",
    "import matplotlib.pyplot as plt\n",
    "from sklearn.model_selection import train_test_split\n",
    "from sklearn import linear_model, metrics\n",
    "import seaborn as sns"
   ]
  },
  {
   "cell_type": "code",
   "execution_count": 3,
   "id": "ca723181",
   "metadata": {},
   "outputs": [],
   "source": [
    "dataset = pd.read_csv('fish.csv')"
   ]
  },
  {
   "cell_type": "code",
   "execution_count": 4,
   "id": "30abab6f",
   "metadata": {},
   "outputs": [
    {
     "data": {
      "text/html": [
       "<div>\n",
       "<style scoped>\n",
       "    .dataframe tbody tr th:only-of-type {\n",
       "        vertical-align: middle;\n",
       "    }\n",
       "\n",
       "    .dataframe tbody tr th {\n",
       "        vertical-align: top;\n",
       "    }\n",
       "\n",
       "    .dataframe thead th {\n",
       "        text-align: right;\n",
       "    }\n",
       "</style>\n",
       "<table border=\"1\" class=\"dataframe\">\n",
       "  <thead>\n",
       "    <tr style=\"text-align: right;\">\n",
       "      <th></th>\n",
       "      <th>Species</th>\n",
       "      <th>Weight</th>\n",
       "      <th>Length1</th>\n",
       "      <th>Length2</th>\n",
       "      <th>Length3</th>\n",
       "      <th>Height</th>\n",
       "      <th>Width</th>\n",
       "    </tr>\n",
       "  </thead>\n",
       "  <tbody>\n",
       "    <tr>\n",
       "      <th>0</th>\n",
       "      <td>Bream</td>\n",
       "      <td>242.0</td>\n",
       "      <td>23.2</td>\n",
       "      <td>25.4</td>\n",
       "      <td>30.0</td>\n",
       "      <td>11.5200</td>\n",
       "      <td>4.0200</td>\n",
       "    </tr>\n",
       "    <tr>\n",
       "      <th>1</th>\n",
       "      <td>Bream</td>\n",
       "      <td>290.0</td>\n",
       "      <td>24.0</td>\n",
       "      <td>26.3</td>\n",
       "      <td>31.2</td>\n",
       "      <td>12.4800</td>\n",
       "      <td>4.3056</td>\n",
       "    </tr>\n",
       "    <tr>\n",
       "      <th>2</th>\n",
       "      <td>Bream</td>\n",
       "      <td>340.0</td>\n",
       "      <td>23.9</td>\n",
       "      <td>26.5</td>\n",
       "      <td>31.1</td>\n",
       "      <td>12.3778</td>\n",
       "      <td>4.6961</td>\n",
       "    </tr>\n",
       "    <tr>\n",
       "      <th>3</th>\n",
       "      <td>Bream</td>\n",
       "      <td>363.0</td>\n",
       "      <td>26.3</td>\n",
       "      <td>29.0</td>\n",
       "      <td>33.5</td>\n",
       "      <td>12.7300</td>\n",
       "      <td>4.4555</td>\n",
       "    </tr>\n",
       "    <tr>\n",
       "      <th>4</th>\n",
       "      <td>Bream</td>\n",
       "      <td>430.0</td>\n",
       "      <td>26.5</td>\n",
       "      <td>29.0</td>\n",
       "      <td>34.0</td>\n",
       "      <td>12.4440</td>\n",
       "      <td>5.1340</td>\n",
       "    </tr>\n",
       "  </tbody>\n",
       "</table>\n",
       "</div>"
      ],
      "text/plain": [
       "  Species  Weight  Length1  Length2  Length3   Height   Width\n",
       "0   Bream   242.0     23.2     25.4     30.0  11.5200  4.0200\n",
       "1   Bream   290.0     24.0     26.3     31.2  12.4800  4.3056\n",
       "2   Bream   340.0     23.9     26.5     31.1  12.3778  4.6961\n",
       "3   Bream   363.0     26.3     29.0     33.5  12.7300  4.4555\n",
       "4   Bream   430.0     26.5     29.0     34.0  12.4440  5.1340"
      ]
     },
     "execution_count": 4,
     "metadata": {},
     "output_type": "execute_result"
    }
   ],
   "source": [
    "dataset.head()"
   ]
  },
  {
   "cell_type": "code",
   "execution_count": 5,
   "id": "4b348a54",
   "metadata": {},
   "outputs": [
    {
     "data": {
      "text/plain": [
       "<matplotlib.collections.PathCollection at 0x1e319ec5790>"
      ]
     },
     "execution_count": 5,
     "metadata": {},
     "output_type": "execute_result"
    },
    {
     "data": {
      "image/png": "[encoded data removed]",
      "text/plain": [
       "<Figure size 432x288 with 1 Axes>"
      ]
     },
     "metadata": {
      "needs_background": "light"
     },
     "output_type": "display_data"
    }
   ],
   "source": [
    "plt.figure()\n",
    "plt.scatter(dataset['Species'], dataset['Weight'], c='blue')\n",
    "plt.scatter(dataset['Species'], dataset['Length1'], c='green')\n",
    "plt.scatter(dataset['Species'], dataset['Length2'], c='green')\n",
    "plt.scatter(dataset['Species'], dataset['Length3'], c='green')\n",
    "plt.scatter(dataset['Species'], dataset['Height'], c='red')\n",
    "plt.scatter(dataset['Species'], dataset['Width'], c='yellow')"
   ]
  },
  {
   "cell_type": "code",
   "execution_count": 6,
   "id": "91fef238",
   "metadata": {},
   "outputs": [],
   "source": [
    "df_x = dataset.iloc[:,1:].values"
   ]
  },
  {
   "cell_type": "code",
   "execution_count": 7,
   "id": "9e07f2c7",
   "metadata": {},
   "outputs": [
    {
     "data": {
      "text/plain": [
       "array([[2.42000e+02, 2.32000e+01, 2.54000e+01, 3.00000e+01, 1.15200e+01,\n",
       "        4.02000e+00],\n",
       "       [2.90000e+02, 2.40000e+01, 2.63000e+01, 3.12000e+01, 1.24800e+01,\n",
       "        4.30560e+00],\n",
       "       [3.40000e+02, 2.39000e+01, 2.65000e+01, 3.11000e+01, 1.23778e+01,\n",
       "        4.69610e+00],\n",
       "       [3.63000e+02, 2.63000e+01, 2.90000e+01, 3.35000e+01, 1.27300e+01,\n",
       "        4.45550e+00],\n",
       "       [4.30000e+02, 2.65000e+01, 2.90000e+01, 3.40000e+01, 1.24440e+01,\n",
       "        5.13400e+00],\n",
       "       [4.50000e+02, 2.68000e+01, 2.97000e+01, 3.47000e+01, 1.36024e+01,\n",
       "        4.92740e+00],\n",
       "       [5.00000e+02, 2.68000e+01, 2.97000e+01, 3.45000e+01, 1.41795e+01,\n",
       "        5.27850e+00],\n",
       "       [3.90000e+02, 2.76000e+01, 3.00000e+01, 3.50000e+01, 1.26700e+01,\n",
       "        4.69000e+00],\n",
       "       [4.50000e+02, 2.76000e+01, 3.00000e+01, 3.51000e+01, 1.40049e+01,\n",
       "        4.84380e+00],\n",
       "       [5.00000e+02, 2.85000e+01, 3.07000e+01, 3.62000e+01, 1.42266e+01,\n",
       "        4.95940e+00],\n",
       "       [4.75000e+02, 2.84000e+01, 3.10000e+01, 3.62000e+01, 1.42628e+01,\n",
       "        5.10420e+00],\n",
       "       [5.00000e+02, 2.87000e+01, 3.10000e+01, 3.62000e+01, 1.43714e+01,\n",
       "        4.81460e+00],\n",
       "       [5.00000e+02, 2.91000e+01, 3.15000e+01, 3.64000e+01, 1.37592e+01,\n",
       "        4.36800e+00],\n",
       "       [3.40000e+02, 2.95000e+01, 3.20000e+01, 3.73000e+01, 1.39129e+01,\n",
       "        5.07280e+00],\n",
       "       [6.00000e+02, 2.94000e+01, 3.20000e+01, 3.72000e+01, 1.49544e+01,\n",
       "        5.17080e+00],\n",
       "       [6.00000e+02, 2.94000e+01, 3.20000e+01, 3.72000e+01, 1.54380e+01,\n",
       "        5.58000e+00],\n",
       "       [7.00000e+02, 3.04000e+01, 3.30000e+01, 3.83000e+01, 1.48604e+01,\n",
       "        5.28540e+00],\n",
       "       [7.00000e+02, 3.04000e+01, 3.30000e+01, 3.85000e+01, 1.49380e+01,\n",
       "        5.19750e+00],\n",
       "       [6.10000e+02, 3.09000e+01, 3.35000e+01, 3.86000e+01, 1.56330e+01,\n",
       "        5.13380e+00],\n",
       "       [6.50000e+02, 3.10000e+01, 3.35000e+01, 3.87000e+01, 1.44738e+01,\n",
       "        5.72760e+00],\n",
       "       [5.75000e+02, 3.13000e+01, 3.40000e+01, 3.95000e+01, 1.51285e+01,\n",
       "        5.56950e+00],\n",
       "       [6.85000e+02, 3.14000e+01, 3.40000e+01, 3.92000e+01, 1.59936e+01,\n",
       "        5.37040e+00],\n",
       "       [6.20000e+02, 3.15000e+01, 3.45000e+01, 3.97000e+01, 1.55227e+01,\n",
       "        5.28010e+00],\n",
       "       [6.80000e+02, 3.18000e+01, 3.50000e+01, 4.06000e+01, 1.54686e+01,\n",
       "        6.13060e+00],\n",
       "       [7.00000e+02, 3.19000e+01, 3.50000e+01, 4.05000e+01, 1.62405e+01,\n",
       "        5.58900e+00],\n",
       "       [7.25000e+02, 3.18000e+01, 3.50000e+01, 4.09000e+01, 1.63600e+01,\n",
       "        6.05320e+00],\n",
       "       [7.20000e+02, 3.20000e+01, 3.50000e+01, 4.06000e+01, 1.63618e+01,\n",
       "        6.09000e+00],\n",
       "       [7.14000e+02, 3.27000e+01, 3.60000e+01, 4.15000e+01, 1.65170e+01,\n",
       "        5.85150e+00],\n",
       "       [8.50000e+02, 3.28000e+01, 3.60000e+01, 4.16000e+01, 1.68896e+01,\n",
       "        6.19840e+00],\n",
       "       [1.00000e+03, 3.35000e+01, 3.70000e+01, 4.26000e+01, 1.89570e+01,\n",
       "        6.60300e+00],\n",
       "       [9.20000e+02, 3.50000e+01, 3.85000e+01, 4.41000e+01, 1.80369e+01,\n",
       "        6.30630e+00],\n",
       "       [9.55000e+02, 3.50000e+01, 3.85000e+01, 4.40000e+01, 1.80840e+01,\n",
       "        6.29200e+00],\n",
       "       [9.25000e+02, 3.62000e+01, 3.95000e+01, 4.53000e+01, 1.87542e+01,\n",
       "        6.74970e+00],\n",
       "       [9.75000e+02, 3.74000e+01, 4.10000e+01, 4.59000e+01, 1.86354e+01,\n",
       "        6.74730e+00],\n",
       "       [9.50000e+02, 3.80000e+01, 4.10000e+01, 4.65000e+01, 1.76235e+01,\n",
       "        6.37050e+00],\n",
       "       [4.00000e+01, 1.29000e+01, 1.41000e+01, 1.62000e+01, 4.14720e+00,\n",
       "        2.26800e+00],\n",
       "       [6.90000e+01, 1.65000e+01, 1.82000e+01, 2.03000e+01, 5.29830e+00,\n",
       "        2.82170e+00],\n",
       "       [7.80000e+01, 1.75000e+01, 1.88000e+01, 2.12000e+01, 5.57560e+00,\n",
       "        2.90440e+00],\n",
       "       [8.70000e+01, 1.82000e+01, 1.98000e+01, 2.22000e+01, 5.61660e+00,\n",
       "        3.17460e+00],\n",
       "       [1.20000e+02, 1.86000e+01, 2.00000e+01, 2.22000e+01, 6.21600e+00,\n",
       "        3.57420e+00],\n",
       "       [0.00000e+00, 1.90000e+01, 2.05000e+01, 2.28000e+01, 6.47520e+00,\n",
       "        3.35160e+00],\n",
       "       [1.10000e+02, 1.91000e+01, 2.08000e+01, 2.31000e+01, 6.16770e+00,\n",
       "        3.39570e+00],\n",
       "       [1.20000e+02, 1.94000e+01, 2.10000e+01, 2.37000e+01, 6.11460e+00,\n",
       "        3.29430e+00],\n",
       "       [1.50000e+02, 2.04000e+01, 2.20000e+01, 2.47000e+01, 5.80450e+00,\n",
       "        3.75440e+00],\n",
       "       [1.45000e+02, 2.05000e+01, 2.20000e+01, 2.43000e+01, 6.63390e+00,\n",
       "        3.54780e+00],\n",
       "       [1.60000e+02, 2.05000e+01, 2.25000e+01, 2.53000e+01, 7.03340e+00,\n",
       "        3.82030e+00],\n",
       "       [1.40000e+02, 2.10000e+01, 2.25000e+01, 2.50000e+01, 6.55000e+00,\n",
       "        3.32500e+00],\n",
       "       [1.60000e+02, 2.11000e+01, 2.25000e+01, 2.50000e+01, 6.40000e+00,\n",
       "        3.80000e+00],\n",
       "       [1.69000e+02, 2.20000e+01, 2.40000e+01, 2.72000e+01, 7.53440e+00,\n",
       "        3.83520e+00],\n",
       "       [1.61000e+02, 2.20000e+01, 2.34000e+01, 2.67000e+01, 6.91530e+00,\n",
       "        3.63120e+00],\n",
       "       [2.00000e+02, 2.21000e+01, 2.35000e+01, 2.68000e+01, 7.39680e+00,\n",
       "        4.12720e+00],\n",
       "       [1.80000e+02, 2.36000e+01, 2.52000e+01, 2.79000e+01, 7.08660e+00,\n",
       "        3.90600e+00],\n",
       "       [2.90000e+02, 2.40000e+01, 2.60000e+01, 2.92000e+01, 8.87680e+00,\n",
       "        4.49680e+00],\n",
       "       [2.72000e+02, 2.50000e+01, 2.70000e+01, 3.06000e+01, 8.56800e+00,\n",
       "        4.77360e+00],\n",
       "       [3.90000e+02, 2.95000e+01, 3.17000e+01, 3.50000e+01, 9.48500e+00,\n",
       "        5.35500e+00],\n",
       "       [2.70000e+02, 2.36000e+01, 2.60000e+01, 2.87000e+01, 8.38040e+00,\n",
       "        4.24760e+00],\n",
       "       [2.70000e+02, 2.41000e+01, 2.65000e+01, 2.93000e+01, 8.14540e+00,\n",
       "        4.24850e+00],\n",
       "       [3.06000e+02, 2.56000e+01, 2.80000e+01, 3.08000e+01, 8.77800e+00,\n",
       "        4.68160e+00],\n",
       "       [5.40000e+02, 2.85000e+01, 3.10000e+01, 3.40000e+01, 1.07440e+01,\n",
       "        6.56200e+00],\n",
       "       [8.00000e+02, 3.37000e+01, 3.64000e+01, 3.96000e+01, 1.17612e+01,\n",
       "        6.57360e+00],\n",
       "       [1.00000e+03, 3.73000e+01, 4.00000e+01, 4.35000e+01, 1.23540e+01,\n",
       "        6.52500e+00],\n",
       "       [5.50000e+01, 1.35000e+01, 1.47000e+01, 1.65000e+01, 6.84750e+00,\n",
       "        2.32650e+00],\n",
       "       [6.00000e+01, 1.43000e+01, 1.55000e+01, 1.74000e+01, 6.57720e+00,\n",
       "        2.31420e+00],\n",
       "       [9.00000e+01, 1.63000e+01, 1.77000e+01, 1.98000e+01, 7.40520e+00,\n",
       "        2.67300e+00],\n",
       "       [1.20000e+02, 1.75000e+01, 1.90000e+01, 2.13000e+01, 8.39220e+00,\n",
       "        2.91810e+00],\n",
       "       [1.50000e+02, 1.84000e+01, 2.00000e+01, 2.24000e+01, 8.89280e+00,\n",
       "        3.29280e+00],\n",
       "       [1.40000e+02, 1.90000e+01, 2.07000e+01, 2.32000e+01, 8.53760e+00,\n",
       "        3.29440e+00],\n",
       "       [1.70000e+02, 1.90000e+01, 2.07000e+01, 2.32000e+01, 9.39600e+00,\n",
       "        3.41040e+00],\n",
       "       [1.45000e+02, 1.98000e+01, 2.15000e+01, 2.41000e+01, 9.73640e+00,\n",
       "        3.15710e+00],\n",
       "       [2.00000e+02, 2.12000e+01, 2.30000e+01, 2.58000e+01, 1.03458e+01,\n",
       "        3.66360e+00],\n",
       "       [2.73000e+02, 2.30000e+01, 2.50000e+01, 2.80000e+01, 1.10880e+01,\n",
       "        4.14400e+00],\n",
       "       [3.00000e+02, 2.40000e+01, 2.60000e+01, 2.90000e+01, 1.13680e+01,\n",
       "        4.23400e+00],\n",
       "       [5.90000e+00, 7.50000e+00, 8.40000e+00, 8.80000e+00, 2.11200e+00,\n",
       "        1.40800e+00],\n",
       "       [3.20000e+01, 1.25000e+01, 1.37000e+01, 1.47000e+01, 3.52800e+00,\n",
       "        1.99920e+00],\n",
       "       [4.00000e+01, 1.38000e+01, 1.50000e+01, 1.60000e+01, 3.82400e+00,\n",
       "        2.43200e+00],\n",
       "       [5.15000e+01, 1.50000e+01, 1.62000e+01, 1.72000e+01, 4.59240e+00,\n",
       "        2.63160e+00],\n",
       "       [7.00000e+01, 1.57000e+01, 1.74000e+01, 1.85000e+01, 4.58800e+00,\n",
       "        2.94150e+00],\n",
       "       [1.00000e+02, 1.62000e+01, 1.80000e+01, 1.92000e+01, 5.22240e+00,\n",
       "        3.32160e+00],\n",
       "       [7.80000e+01, 1.68000e+01, 1.87000e+01, 1.94000e+01, 5.19920e+00,\n",
       "        3.12340e+00],\n",
       "       [8.00000e+01, 1.72000e+01, 1.90000e+01, 2.02000e+01, 5.63580e+00,\n",
       "        3.05020e+00],\n",
       "       [8.50000e+01, 1.78000e+01, 1.96000e+01, 2.08000e+01, 5.13760e+00,\n",
       "        3.03680e+00],\n",
       "       [8.50000e+01, 1.82000e+01, 2.00000e+01, 2.10000e+01, 5.08200e+00,\n",
       "        2.77200e+00],\n",
       "       [1.10000e+02, 1.90000e+01, 2.10000e+01, 2.25000e+01, 5.69250e+00,\n",
       "        3.55500e+00],\n",
       "       [1.15000e+02, 1.90000e+01, 2.10000e+01, 2.25000e+01, 5.91750e+00,\n",
       "        3.30750e+00],\n",
       "       [1.25000e+02, 1.90000e+01, 2.10000e+01, 2.25000e+01, 5.69250e+00,\n",
       "        3.66750e+00],\n",
       "       [1.30000e+02, 1.93000e+01, 2.13000e+01, 2.28000e+01, 6.38400e+00,\n",
       "        3.53400e+00],\n",
       "       [1.20000e+02, 2.00000e+01, 2.20000e+01, 2.35000e+01, 6.11000e+00,\n",
       "        3.40750e+00],\n",
       "       [1.20000e+02, 2.00000e+01, 2.20000e+01, 2.35000e+01, 5.64000e+00,\n",
       "        3.52500e+00],\n",
       "       [1.30000e+02, 2.00000e+01, 2.20000e+01, 2.35000e+01, 6.11000e+00,\n",
       "        3.52500e+00],\n",
       "       [1.35000e+02, 2.00000e+01, 2.20000e+01, 2.35000e+01, 5.87500e+00,\n",
       "        3.52500e+00],\n",
       "       [1.10000e+02, 2.00000e+01, 2.20000e+01, 2.35000e+01, 5.52250e+00,\n",
       "        3.99500e+00],\n",
       "       [1.30000e+02, 2.05000e+01, 2.25000e+01, 2.40000e+01, 5.85600e+00,\n",
       "        3.62400e+00],\n",
       "       [1.50000e+02, 2.05000e+01, 2.25000e+01, 2.40000e+01, 6.79200e+00,\n",
       "        3.62400e+00],\n",
       "       [1.45000e+02, 2.07000e+01, 2.27000e+01, 2.42000e+01, 5.95320e+00,\n",
       "        3.63000e+00],\n",
       "       [1.50000e+02, 2.10000e+01, 2.30000e+01, 2.45000e+01, 5.21850e+00,\n",
       "        3.62600e+00],\n",
       "       [1.70000e+02, 2.15000e+01, 2.35000e+01, 2.50000e+01, 6.27500e+00,\n",
       "        3.72500e+00],\n",
       "       [2.25000e+02, 2.20000e+01, 2.40000e+01, 2.55000e+01, 7.29300e+00,\n",
       "        3.72300e+00],\n",
       "       [1.45000e+02, 2.20000e+01, 2.40000e+01, 2.55000e+01, 6.37500e+00,\n",
       "        3.82500e+00],\n",
       "       [1.88000e+02, 2.26000e+01, 2.46000e+01, 2.62000e+01, 6.73340e+00,\n",
       "        4.16580e+00],\n",
       "       [1.80000e+02, 2.30000e+01, 2.50000e+01, 2.65000e+01, 6.43950e+00,\n",
       "        3.68350e+00],\n",
       "       [1.97000e+02, 2.35000e+01, 2.56000e+01, 2.70000e+01, 6.56100e+00,\n",
       "        4.23900e+00],\n",
       "       [2.18000e+02, 2.50000e+01, 2.65000e+01, 2.80000e+01, 7.16800e+00,\n",
       "        4.14400e+00],\n",
       "       [3.00000e+02, 2.52000e+01, 2.73000e+01, 2.87000e+01, 8.32300e+00,\n",
       "        5.13730e+00],\n",
       "       [2.60000e+02, 2.54000e+01, 2.75000e+01, 2.89000e+01, 7.16720e+00,\n",
       "        4.33500e+00],\n",
       "       [2.65000e+02, 2.54000e+01, 2.75000e+01, 2.89000e+01, 7.05160e+00,\n",
       "        4.33500e+00],\n",
       "       [2.50000e+02, 2.54000e+01, 2.75000e+01, 2.89000e+01, 7.28280e+00,\n",
       "        4.56620e+00],\n",
       "       [2.50000e+02, 2.59000e+01, 2.80000e+01, 2.94000e+01, 7.82040e+00,\n",
       "        4.20420e+00],\n",
       "       [3.00000e+02, 2.69000e+01, 2.87000e+01, 3.01000e+01, 7.58520e+00,\n",
       "        4.63540e+00],\n",
       "       [3.20000e+02, 2.78000e+01, 3.00000e+01, 3.16000e+01, 7.61560e+00,\n",
       "        4.77160e+00],\n",
       "       [5.14000e+02, 3.05000e+01, 3.28000e+01, 3.40000e+01, 1.00300e+01,\n",
       "        6.01800e+00],\n",
       "       [5.56000e+02, 3.20000e+01, 3.45000e+01, 3.65000e+01, 1.02565e+01,\n",
       "        6.38750e+00],\n",
       "       [8.40000e+02, 3.25000e+01, 3.50000e+01, 3.73000e+01, 1.14884e+01,\n",
       "        7.79570e+00],\n",
       "       [6.85000e+02, 3.40000e+01, 3.65000e+01, 3.90000e+01, 1.08810e+01,\n",
       "        6.86400e+00],\n",
       "       [7.00000e+02, 3.40000e+01, 3.60000e+01, 3.83000e+01, 1.06091e+01,\n",
       "        6.74080e+00],\n",
       "       [7.00000e+02, 3.45000e+01, 3.70000e+01, 3.94000e+01, 1.08350e+01,\n",
       "        6.26460e+00],\n",
       "       [6.90000e+02, 3.46000e+01, 3.70000e+01, 3.93000e+01, 1.05717e+01,\n",
       "        6.36660e+00],\n",
       "       [9.00000e+02, 3.65000e+01, 3.90000e+01, 4.14000e+01, 1.11366e+01,\n",
       "        7.49340e+00],\n",
       "       [6.50000e+02, 3.65000e+01, 3.90000e+01, 4.14000e+01, 1.11366e+01,\n",
       "        6.00300e+00],\n",
       "       [8.20000e+02, 3.66000e+01, 3.90000e+01, 4.13000e+01, 1.24313e+01,\n",
       "        7.35140e+00],\n",
       "       [8.50000e+02, 3.69000e+01, 4.00000e+01, 4.23000e+01, 1.19286e+01,\n",
       "        7.10640e+00],\n",
       "       [9.00000e+02, 3.70000e+01, 4.00000e+01, 4.25000e+01, 1.17300e+01,\n",
       "        7.22500e+00],\n",
       "       [1.01500e+03, 3.70000e+01, 4.00000e+01, 4.24000e+01, 1.23808e+01,\n",
       "        7.46240e+00],\n",
       "       [8.20000e+02, 3.71000e+01, 4.00000e+01, 4.25000e+01, 1.11350e+01,\n",
       "        6.63000e+00],\n",
       "       [1.10000e+03, 3.90000e+01, 4.20000e+01, 4.46000e+01, 1.28002e+01,\n",
       "        6.86840e+00],\n",
       "       [1.00000e+03, 3.98000e+01, 4.30000e+01, 4.52000e+01, 1.19328e+01,\n",
       "        7.27720e+00],\n",
       "       [1.10000e+03, 4.01000e+01, 4.30000e+01, 4.55000e+01, 1.25125e+01,\n",
       "        7.41650e+00],\n",
       "       [1.00000e+03, 4.02000e+01, 4.35000e+01, 4.60000e+01, 1.26040e+01,\n",
       "        8.14200e+00],\n",
       "       [1.00000e+03, 4.11000e+01, 4.40000e+01, 4.66000e+01, 1.24888e+01,\n",
       "        7.59580e+00],\n",
       "       [2.00000e+02, 3.00000e+01, 3.23000e+01, 3.48000e+01, 5.56800e+00,\n",
       "        3.37560e+00],\n",
       "       [3.00000e+02, 3.17000e+01, 3.40000e+01, 3.78000e+01, 5.70780e+00,\n",
       "        4.15800e+00],\n",
       "       [3.00000e+02, 3.27000e+01, 3.50000e+01, 3.88000e+01, 5.93640e+00,\n",
       "        4.38440e+00],\n",
       "       [3.00000e+02, 3.48000e+01, 3.73000e+01, 3.98000e+01, 6.28840e+00,\n",
       "        4.01980e+00],\n",
       "       [4.30000e+02, 3.55000e+01, 3.80000e+01, 4.05000e+01, 7.29000e+00,\n",
       "        4.57650e+00],\n",
       "       [3.45000e+02, 3.60000e+01, 3.85000e+01, 4.10000e+01, 6.39600e+00,\n",
       "        3.97700e+00],\n",
       "       [4.56000e+02, 4.00000e+01, 4.25000e+01, 4.55000e+01, 7.28000e+00,\n",
       "        4.32250e+00],\n",
       "       [5.10000e+02, 4.00000e+01, 4.25000e+01, 4.55000e+01, 6.82500e+00,\n",
       "        4.45900e+00],\n",
       "       [5.40000e+02, 4.01000e+01, 4.30000e+01, 4.58000e+01, 7.78600e+00,\n",
       "        5.12960e+00],\n",
       "       [5.00000e+02, 4.20000e+01, 4.50000e+01, 4.80000e+01, 6.96000e+00,\n",
       "        4.89600e+00],\n",
       "       [5.67000e+02, 4.32000e+01, 4.60000e+01, 4.87000e+01, 7.79200e+00,\n",
       "        4.87000e+00],\n",
       "       [7.70000e+02, 4.48000e+01, 4.80000e+01, 5.12000e+01, 7.68000e+00,\n",
       "        5.37600e+00],\n",
       "       [9.50000e+02, 4.83000e+01, 5.17000e+01, 5.51000e+01, 8.92620e+00,\n",
       "        6.17120e+00],\n",
       "       [1.25000e+03, 5.20000e+01, 5.60000e+01, 5.97000e+01, 1.06863e+01,\n",
       "        6.98490e+00],\n",
       "       [1.60000e+03, 5.60000e+01, 6.00000e+01, 6.40000e+01, 9.60000e+00,\n",
       "        6.14400e+00],\n",
       "       [1.55000e+03, 5.60000e+01, 6.00000e+01, 6.40000e+01, 9.60000e+00,\n",
       "        6.14400e+00],\n",
       "       [1.65000e+03, 5.90000e+01, 6.34000e+01, 6.80000e+01, 1.08120e+01,\n",
       "        7.48000e+00],\n",
       "       [6.70000e+00, 9.30000e+00, 9.80000e+00, 1.08000e+01, 1.73880e+00,\n",
       "        1.04760e+00],\n",
       "       [7.50000e+00, 1.00000e+01, 1.05000e+01, 1.16000e+01, 1.97200e+00,\n",
       "        1.16000e+00],\n",
       "       [7.00000e+00, 1.01000e+01, 1.06000e+01, 1.16000e+01, 1.72840e+00,\n",
       "        1.14840e+00],\n",
       "       [9.70000e+00, 1.04000e+01, 1.10000e+01, 1.20000e+01, 2.19600e+00,\n",
       "        1.38000e+00],\n",
       "       [9.80000e+00, 1.07000e+01, 1.12000e+01, 1.24000e+01, 2.08320e+00,\n",
       "        1.27720e+00],\n",
       "       [8.70000e+00, 1.08000e+01, 1.13000e+01, 1.26000e+01, 1.97820e+00,\n",
       "        1.28520e+00],\n",
       "       [1.00000e+01, 1.13000e+01, 1.18000e+01, 1.31000e+01, 2.21390e+00,\n",
       "        1.28380e+00],\n",
       "       [9.90000e+00, 1.13000e+01, 1.18000e+01, 1.31000e+01, 2.21390e+00,\n",
       "        1.16590e+00],\n",
       "       [9.80000e+00, 1.14000e+01, 1.20000e+01, 1.32000e+01, 2.20440e+00,\n",
       "        1.14840e+00],\n",
       "       [1.22000e+01, 1.15000e+01, 1.22000e+01, 1.34000e+01, 2.09040e+00,\n",
       "        1.39360e+00],\n",
       "       [1.34000e+01, 1.17000e+01, 1.24000e+01, 1.35000e+01, 2.43000e+00,\n",
       "        1.26900e+00],\n",
       "       [1.22000e+01, 1.21000e+01, 1.30000e+01, 1.38000e+01, 2.27700e+00,\n",
       "        1.25580e+00],\n",
       "       [1.97000e+01, 1.32000e+01, 1.43000e+01, 1.52000e+01, 2.87280e+00,\n",
       "        2.06720e+00],\n",
       "       [1.99000e+01, 1.38000e+01, 1.50000e+01, 1.62000e+01, 2.93220e+00,\n",
       "        1.87920e+00]])"
      ]
     },
     "execution_count": 7,
     "metadata": {},
     "output_type": "execute_result"
    }
   ],
   "source": [
    "df_x"
   ]
  },
  {
   "cell_type": "code",
   "execution_count": 8,
   "id": "7ffbeda6",
   "metadata": {},
   "outputs": [],
   "source": [
    "df_y = dataset.iloc[:,0].values"
   ]
  },
  {
   "cell_type": "code",
   "execution_count": 9,
   "id": "f98071b1",
   "metadata": {},
   "outputs": [
    {
     "data": {
      "text/plain": [
       "array(['Bream', 'Bream', 'Bream', 'Bream', 'Bream', 'Bream', 'Bream',\n",
       "       'Bream', 'Bream', 'Bream', 'Bream', 'Bream', 'Bream', 'Bream',\n",
       "       'Bream', 'Bream', 'Bream', 'Bream', 'Bream', 'Bream', 'Bream',\n",
       "       'Bream', 'Bream', 'Bream', 'Bream', 'Bream', 'Bream', 'Bream',\n",
       "       'Bream', 'Bream', 'Bream', 'Bream', 'Bream', 'Bream', 'Bream',\n",
       "       'Roach', 'Roach', 'Roach', 'Roach', 'Roach', 'Roach', 'Roach',\n",
       "       'Roach', 'Roach', 'Roach', 'Roach', 'Roach', 'Roach', 'Roach',\n",
       "       'Roach', 'Roach', 'Roach', 'Roach', 'Roach', 'Roach', 'Whitefish',\n",
       "       'Whitefish', 'Whitefish', 'Whitefish', 'Whitefish', 'Whitefish',\n",
       "       'Parkki', 'Parkki', 'Parkki', 'Parkki', 'Parkki', 'Parkki',\n",
       "       'Parkki', 'Parkki', 'Parkki', 'Parkki', 'Parkki', 'Perch', 'Perch',\n",
       "       'Perch', 'Perch', 'Perch', 'Perch', 'Perch', 'Perch', 'Perch',\n",
       "       'Perch', 'Perch', 'Perch', 'Perch', 'Perch', 'Perch', 'Perch',\n",
       "       'Perch', 'Perch', 'Perch', 'Perch', 'Perch', 'Perch', 'Perch',\n",
       "       'Perch', 'Perch', 'Perch', 'Perch', 'Perch', 'Perch', 'Perch',\n",
       "       'Perch', 'Perch', 'Perch', 'Perch', 'Perch', 'Perch', 'Perch',\n",
       "       'Perch', 'Perch', 'Perch', 'Perch', 'Perch', 'Perch', 'Perch',\n",
       "       'Perch', 'Perch', 'Perch', 'Perch', 'Perch', 'Perch', 'Perch',\n",
       "       'Perch', 'Perch', 'Perch', 'Perch', 'Perch', 'Pike', 'Pike',\n",
       "       'Pike', 'Pike', 'Pike', 'Pike', 'Pike', 'Pike', 'Pike', 'Pike',\n",
       "       'Pike', 'Pike', 'Pike', 'Pike', 'Pike', 'Pike', 'Pike', 'Smelt',\n",
       "       'Smelt', 'Smelt', 'Smelt', 'Smelt', 'Smelt', 'Smelt', 'Smelt',\n",
       "       'Smelt', 'Smelt', 'Smelt', 'Smelt', 'Smelt', 'Smelt'], dtype=object)"
      ]
     },
     "execution_count": 9,
     "metadata": {},
     "output_type": "execute_result"
    }
   ],
   "source": [
    "df_y"
   ]
  },
  {
   "cell_type": "code",
   "execution_count": 10,
   "id": "8cae37b1",
   "metadata": {},
   "outputs": [],
   "source": [
    "x_train, x_test, y_train, y_test = train_test_split(df_x, df_y, test_size=0.2)"
   ]
  },
  {
   "cell_type": "code",
   "execution_count": 11,
   "id": "ba930e50",
   "metadata": {},
   "outputs": [],
   "source": [
    "# from sklearn.preprocessing import StandardScaler\n",
    "# norm = StandardScaler()\n",
    "# X_train = norm.fit_transform(x_train)"
   ]
  },
  {
   "cell_type": "code",
   "execution_count": 12,
   "id": "6913801d",
   "metadata": {},
   "outputs": [],
   "source": [
    "reg = linear_model.LogisticRegression(solver='lbfgs', max_iter=10000)"
   ]
  },
  {
   "cell_type": "code",
   "execution_count": 13,
   "id": "ec8750c6",
   "metadata": {},
   "outputs": [
    {
     "name": "stderr",
     "output_type": "stream",
     "text": [
      "C:\\Users\\ghsts\\anaconda3\\lib\\site-packages\\sklearn\\linear_model\\_logistic.py:444: ConvergenceWarning: lbfgs failed to converge (status=1):\n",
      "STOP: TOTAL NO. of ITERATIONS REACHED LIMIT.\n",
      "\n",
      "Increase the number of iterations (max_iter) or scale the data as shown in:\n",
      "    https://scikit-learn.org/stable/modules/preprocessing.html\n",
      "Please also refer to the documentation for alternative solver options:\n",
      "    https://scikit-learn.org/stable/modules/linear_model.html#logistic-regression\n",
      "  n_iter_i = _check_optimize_result(\n"
     ]
    },
    {
     "data": {
      "text/html": [
       "<style>#sk-container-id-1 {color: black;background-color: white;}#sk-container-id-1 pre{padding: 0;}#sk-container-id-1 div.sk-toggleable {background-color: white;}#sk-container-id-1 label.sk-toggleable__label {cursor: pointer;display: block;width: 100%;margin-bottom: 0;padding: 0.3em;box-sizing: border-box;text-align: center;}#sk-container-id-1 label.sk-toggleable__label-arrow:before {content: \"▸\";float: left;margin-right: 0.25em;color: #696969;}#sk-container-id-1 label.sk-toggleable__label-arrow:hover:before {color: black;}#sk-container-id-1 div.sk-estimator:hover label.sk-toggleable__label-arrow:before {color: black;}#sk-container-id-1 div.sk-toggleable__content {max-height: 0;max-width: 0;overflow: hidden;text-align: left;background-color: #f0f8ff;}#sk-container-id-1 div.sk-toggleable__content pre {margin: 0.2em;color: black;border-radius: 0.25em;background-color: #f0f8ff;}#sk-container-id-1 input.sk-toggleable__control:checked~div.sk-toggleable__content {max-height: 200px;max-width: 100%;overflow: auto;}#sk-container-id-1 input.sk-toggleable__control:checked~label.sk-toggleable__label-arrow:before {content: \"▾\";}#sk-container-id-1 div.sk-estimator input.sk-toggleable__control:checked~label.sk-toggleable__label {background-color: #d4ebff;}#sk-container-id-1 div.sk-label input.sk-toggleable__control:checked~label.sk-toggleable__label {background-color: #d4ebff;}#sk-container-id-1 input.sk-hidden--visually {border: 0;clip: rect(1px 1px 1px 1px);clip: rect(1px, 1px, 1px, 1px);height: 1px;margin: -1px;overflow: hidden;padding: 0;position: absolute;width: 1px;}#sk-container-id-1 div.sk-estimator {font-family: monospace;background-color: #f0f8ff;border: 1px dotted black;border-radius: 0.25em;box-sizing: border-box;margin-bottom: 0.5em;}#sk-container-id-1 div.sk-estimator:hover {background-color: #d4ebff;}#sk-container-id-1 div.sk-parallel-item::after {content: \"\";width: 100%;border-bottom: 1px solid gray;flex-grow: 1;}#sk-container-id-1 div.sk-label:hover label.sk-toggleable__label {background-color: #d4ebff;}#sk-container-id-1 div.sk-serial::before {content: \"\";position: absolute;border-left: 1px solid gray;box-sizing: border-box;top: 0;bottom: 0;left: 50%;z-index: 0;}#sk-container-id-1 div.sk-serial {display: flex;flex-direction: column;align-items: center;background-color: white;padding-right: 0.2em;padding-left: 0.2em;position: relative;}#sk-container-id-1 div.sk-item {position: relative;z-index: 1;}#sk-container-id-1 div.sk-parallel {display: flex;align-items: stretch;justify-content: center;background-color: white;position: relative;}#sk-container-id-1 div.sk-item::before, #sk-container-id-1 div.sk-parallel-item::before {content: \"\";position: absolute;border-left: 1px solid gray;box-sizing: border-box;top: 0;bottom: 0;left: 50%;z-index: -1;}#sk-container-id-1 div.sk-parallel-item {display: flex;flex-direction: column;z-index: 1;position: relative;background-color: white;}#sk-container-id-1 div.sk-parallel-item:first-child::after {align-self: flex-end;width: 50%;}#sk-container-id-1 div.sk-parallel-item:last-child::after {align-self: flex-start;width: 50%;}#sk-container-id-1 div.sk-parallel-item:only-child::after {width: 0;}#sk-container-id-1 div.sk-dashed-wrapped {border: 1px dashed gray;margin: 0 0.4em 0.5em 0.4em;box-sizing: border-box;padding-bottom: 0.4em;background-color: white;}#sk-container-id-1 div.sk-label label {font-family: monospace;font-weight: bold;display: inline-block;line-height: 1.2em;}#sk-container-id-1 div.sk-label-container {text-align: center;}#sk-container-id-1 div.sk-container {/* jupyter's `normalize.less` sets `[hidden] { display: none; }` but bootstrap.min.css set `[hidden] { display: none !important; }` so we also need the `!important` here to be able to override the default hidden behavior on the sphinx rendered scikit-learn.org. See: https://github.com/scikit-learn/scikit-learn/issues/21755 */display: inline-block !important;position: relative;}#sk-container-id-1 div.sk-text-repr-fallback {display: none;}</style><div id=\"sk-container-id-1\" class=\"sk-top-container\"><div class=\"sk-text-repr-fallback\"><pre>LogisticRegression(max_iter=10000)</pre><b>In a Jupyter environment, please rerun this cell to show the HTML representation or trust the notebook. <br />On GitHub, the HTML representation is unable to render, please try loading this page with nbviewer.org.</b></div><div class=\"sk-container\" hidden><div class=\"sk-item\"><div class=\"sk-estimator sk-toggleable\"><input class=\"sk-toggleable__control sk-hidden--visually\" id=\"sk-estimator-id-1\" type=\"checkbox\" checked><label for=\"sk-estimator-id-1\" class=\"sk-toggleable__label sk-toggleable__label-arrow\">LogisticRegression</label><div class=\"sk-toggleable__content\"><pre>LogisticRegression(max_iter=10000)</pre></div></div></div></div></div>"
      ],
      "text/plain": [
       "LogisticRegression(max_iter=10000)"
      ]
     },
     "execution_count": 13,
     "metadata": {},
     "output_type": "execute_result"
    }
   ],
   "source": [
    "reg.fit(x_train, y_train)"
   ]
  },
  {
   "cell_type": "code",
   "execution_count": 14,
   "id": "49841a39",
   "metadata": {},
   "outputs": [],
   "source": [
    "predict = reg.predict(x_test)"
   ]
  },
  {
   "cell_type": "code",
   "execution_count": 15,
   "id": "fe877a57",
   "metadata": {},
   "outputs": [
    {
     "data": {
      "text/plain": [
       "1.0"
      ]
     },
     "execution_count": 15,
     "metadata": {},
     "output_type": "execute_result"
    }
   ],
   "source": [
    "metrics.accuracy_score(y_test, predict)"
   ]
  },
  {
   "cell_type": "code",
   "execution_count": 16,
   "id": "96d2cca2",
   "metadata": {},
   "outputs": [
    {
     "data": {
      "text/plain": [
       "array(['Perch', 'Bream', 'Bream', 'Parkki', 'Perch', 'Perch', 'Perch',\n",
       "       'Perch', 'Smelt', 'Perch', 'Perch', 'Bream', 'Perch', 'Bream',\n",
       "       'Perch', 'Roach', 'Bream', 'Bream', 'Perch', 'Pike', 'Parkki',\n",
       "       'Perch', 'Perch', 'Parkki', 'Perch', 'Pike', 'Bream', 'Bream',\n",
       "       'Bream', 'Perch', 'Perch', 'Bream'], dtype=object)"
      ]
     },
     "execution_count": 16,
     "metadata": {},
     "output_type": "execute_result"
    }
   ],
   "source": [
    "predict"
   ]
  },
  {
   "cell_type": "code",
   "execution_count": 17,
   "id": "eb9d247a",
   "metadata": {},
   "outputs": [
    {
     "data": {
      "text/plain": [
       "array(['Perch', 'Bream', 'Bream', 'Parkki', 'Perch', 'Perch', 'Perch',\n",
       "       'Perch', 'Smelt', 'Perch', 'Perch', 'Bream', 'Perch', 'Bream',\n",
       "       'Perch', 'Roach', 'Bream', 'Bream', 'Perch', 'Pike', 'Parkki',\n",
       "       'Perch', 'Perch', 'Parkki', 'Perch', 'Pike', 'Bream', 'Bream',\n",
       "       'Bream', 'Perch', 'Perch', 'Bream'], dtype=object)"
      ]
     },
     "execution_count": 17,
     "metadata": {},
     "output_type": "execute_result"
    }
   ],
   "source": [
    "y_test"
   ]
  },
  {
   "cell_type": "code",
   "execution_count": 18,
   "id": "ff2f98bf",
   "metadata": {},
   "outputs": [
    {
     "name": "stdout",
     "output_type": "stream",
     "text": [
      "[ True  True  True  True  True  True  True  True  True  True  True  True\n",
      "  True  True  True  True  True  True  True  True  True  True  True  True\n",
      "  True  True  True  True  True  True  True  True]\n"
     ]
    }
   ],
   "source": [
    "print(predict == y_test)"
   ]
  },
  {
   "cell_type": "code",
   "execution_count": 19,
   "id": "7980b8e4",
   "metadata": {},
   "outputs": [
    {
     "data": {
      "text/plain": [
       "<AxesSubplot:>"
      ]
     },
     "execution_count": 19,
     "metadata": {},
     "output_type": "execute_result"
    },
    {
     "data": {
      "image/png": "[encoded data removed]",
      "text/plain": [
       "<Figure size 432x288 with 2 Axes>"
      ]
     },
     "metadata": {
      "needs_background": "light"
     },
     "output_type": "display_data"
    }
   ],
   "source": [
    "sns.heatmap(metrics.confusion_matrix(y_test, predict), annot=True)"
   ]
  },
  {
   "cell_type": "code",
   "execution_count": 20,
   "id": "9a5042c9",
   "metadata": {},
   "outputs": [],
   "source": [
    "#replace with species with numeric values"
   ]
  },
  {
   "cell_type": "code",
   "execution_count": 21,
   "id": "d2f98c03",
   "metadata": {},
   "outputs": [
    {
     "data": {
      "image/png": "[encoded data removed]",
      "text/plain": [
       "<Figure size 432x288 with 1 Axes>"
      ]
     },
     "metadata": {
      "needs_background": "light"
     },
     "output_type": "display_data"
    }
   ],
   "source": [
    "plt.figure()\n",
    "ax = plt.axes(projection='3d')\n",
    "ax.scatter3D(dataset['Weight'], dataset['Height'], dataset['Width'], cmap=dataset['Species'])\n",
    "plt.show()"
   ]
  },
  {
   "cell_type": "code",
   "execution_count": 31,
   "id": "702a4243",
   "metadata": {},
   "outputs": [],
   "source": [
    "# plt.figure(figsize=(20,20))\n",
    "# tab = pd.crosstab(dataset['Height'], dataset['Width'])\n",
    "# tab.div(tab.sum(1), axis=0).plot(kind='bar', stacked=True)"
   ]
  },
  {
   "cell_type": "code",
   "execution_count": null,
   "id": "c05f261a",
   "metadata": {},
   "outputs": [],
   "source": []
  }
 ],
 "metadata": {
  "kernelspec": {
   "display_name": "Python 3 (ipykernel)",
   "language": "python",
   "name": "python3"
  },
  "language_info": {
   "codemirror_mode": {
    "name": "ipython",
    "version": 3
   },
   "file_extension": ".py",
   "mimetype": "text/x-python",
   "name": "python",
   "nbconvert_exporter": "python",
   "pygments_lexer": "ipython3",
   "version": "3.9.12"
  }
 },
 "nbformat": 4,
 "nbformat_minor": 5
}
