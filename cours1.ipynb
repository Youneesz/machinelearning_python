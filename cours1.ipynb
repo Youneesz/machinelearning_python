{
 "cells": [
  {
   "cell_type": "code",
   "execution_count": 1,
   "id": "2d51be02",
   "metadata": {},
   "outputs": [],
   "source": [
    "#Numpy\n",
    "#Haute performance\n",
    "#calculs robustes\n",
    "\n",
    "import numpy as np"
   ]
  },
  {
   "cell_type": "code",
   "execution_count": 18,
   "id": "f7a87f5c",
   "metadata": {},
   "outputs": [],
   "source": [
    "first = np.array([[1, 2, 3], [4, 5, 6]])"
   ]
  },
  {
   "cell_type": "code",
   "execution_count": 10,
   "id": "565cf86a",
   "metadata": {},
   "outputs": [],
   "source": [
    "second = np.zeros((2, 3))"
   ]
  },
  {
   "cell_type": "code",
   "execution_count": 12,
   "id": "a32b010c",
   "metadata": {},
   "outputs": [
    {
     "name": "stdout",
     "output_type": "stream",
     "text": [
      "3\n",
      "[[0. 0. 0.]\n",
      " [0. 0. 0.]]\n"
     ]
    }
   ],
   "source": [
    "print(first.size)\n",
    "print(second)"
   ]
  },
  {
   "cell_type": "code",
   "execution_count": 39,
   "id": "c907a79e",
   "metadata": {
    "scrolled": false
   },
   "outputs": [
    {
     "data": {
      "text/plain": [
       "array([[ 1.11097654, -0.2886879 , -0.06974606, -1.04749667,  1.        ],\n",
       "       [ 0.46450548, -0.73674588, -1.48106373, -0.26961562,  1.        ],\n",
       "       [-0.77720836, -0.6318359 , -0.40662058,  0.62626424,  1.        ]])"
      ]
     },
     "execution_count": 39,
     "metadata": {},
     "output_type": "execute_result"
    }
   ],
   "source": [
    "def initialisation(m, n):\n",
    "    matrix = np.random.randn(m, n)\n",
    "    matrix = np.concatenate([matrix, np.ones((matrix.shape[0], 1))], 1)\n",
    "    return matrix\n",
    "\n",
    "initialisation(3, 4)"
   ]
  },
  {
   "cell_type": "code",
   "execution_count": 19,
   "id": "5927d40f",
   "metadata": {},
   "outputs": [
    {
     "data": {
      "text/plain": [
       "2"
      ]
     },
     "execution_count": 19,
     "metadata": {},
     "output_type": "execute_result"
    }
   ],
   "source": [
    "first[0, 1]"
   ]
  },
  {
   "cell_type": "code",
   "execution_count": 33,
   "id": "77c5426d",
   "metadata": {},
   "outputs": [
    {
     "data": {
      "text/plain": [
       "array([[1, 2],\n",
       "       [4, 5]])"
      ]
     },
     "execution_count": 33,
     "metadata": {},
     "output_type": "execute_result"
    }
   ],
   "source": [
    "first[0:2, 0:2]"
   ]
  },
  {
   "cell_type": "code",
   "execution_count": 34,
   "id": "0f83a388",
   "metadata": {},
   "outputs": [],
   "source": [
    "B = np.zeros((4, 4))"
   ]
  },
  {
   "cell_type": "code",
   "execution_count": 35,
   "id": "409c841d",
   "metadata": {},
   "outputs": [
    {
     "data": {
      "text/plain": [
       "array([[0., 0., 0., 0.],\n",
       "       [0., 0., 0., 0.],\n",
       "       [0., 0., 0., 0.],\n",
       "       [0., 0., 0., 0.]])"
      ]
     },
     "execution_count": 35,
     "metadata": {},
     "output_type": "execute_result"
    }
   ],
   "source": [
    "B"
   ]
  },
  {
   "cell_type": "code",
   "execution_count": 36,
   "id": "f1121359",
   "metadata": {},
   "outputs": [],
   "source": [
    "B[1:3, 1:3] = 1"
   ]
  },
  {
   "cell_type": "code",
   "execution_count": 37,
   "id": "71b17b43",
   "metadata": {},
   "outputs": [
    {
     "data": {
      "text/plain": [
       "array([[0., 0., 0., 0.],\n",
       "       [0., 1., 1., 0.],\n",
       "       [0., 1., 1., 0.],\n",
       "       [0., 0., 0., 0.]])"
      ]
     },
     "execution_count": 37,
     "metadata": {},
     "output_type": "execute_result"
    }
   ],
   "source": [
    "B"
   ]
  },
  {
   "cell_type": "code",
   "execution_count": 41,
   "id": "568eb1f2",
   "metadata": {},
   "outputs": [
    {
     "name": "stdout",
     "output_type": "stream",
     "text": [
      "4.0\n"
     ]
    }
   ],
   "source": [
    "print(B.sum())"
   ]
  },
  {
   "cell_type": "code",
   "execution_count": 61,
   "id": "bf811652",
   "metadata": {},
   "outputs": [],
   "source": [
    "#Scipy \n",
    "#Calculs mathematiques scientifiques\n",
    "import scipy as sc\n",
    "\n",
    "#Scikit-Learn\n",
    "#implementer des algorithmes de machine learning\n",
    "\n",
    "\n",
    "#Pandas\n",
    "#construite à partir de numpy\n",
    "#calculs et visualisation \n",
    "import pandas as pd\n",
    "\n",
    "#Matplotlib\n",
    "#visualisation\n",
    "import matplotlib as plt"
   ]
  },
  {
   "cell_type": "code",
   "execution_count": 56,
   "id": "4df6ebf8",
   "metadata": {},
   "outputs": [],
   "source": [
    "x = np.linspace(0,2,100)\n",
    "y = x**2\n",
    "\n"
   ]
  },
  {
   "cell_type": "code",
   "execution_count": null,
   "id": "75c358c4",
   "metadata": {},
   "outputs": [],
   "source": []
  }
 ],
 "metadata": {
  "kernelspec": {
   "display_name": "Python 3 (ipykernel)",
   "language": "python",
   "name": "python3"
  },
  "language_info": {
   "codemirror_mode": {
    "name": "ipython",
    "version": 3
   },
   "file_extension": ".py",
   "mimetype": "text/x-python",
   "name": "python",
   "nbconvert_exporter": "python",
   "pygments_lexer": "ipython3",
   "version": "3.9.12"
  }
 },
 "nbformat": 4,
 "nbformat_minor": 5
}
