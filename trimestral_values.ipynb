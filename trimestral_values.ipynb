{
 "cells": [
  {
   "cell_type": "code",
   "execution_count": 2,
   "id": "572ab5b2",
   "metadata": {},
   "outputs": [],
   "source": [
    "#importing libraries \n",
    "import pandas as pd\n",
    "import matplotlib.pyplot as plt\n",
    "from sklearn import linear_model\n",
    "from sklearn.model_selection import train_test_split"
   ]
  },
  {
   "cell_type": "code",
   "execution_count": 3,
   "id": "f751b83c",
   "metadata": {},
   "outputs": [],
   "source": [
    "dataset = pd.read_csv('valeurs_trimestrielles.csv', sep=';')"
   ]
  },
  {
   "cell_type": "code",
   "execution_count": 4,
   "id": "d81d4623",
   "metadata": {},
   "outputs": [
    {
     "data": {
      "text/html": [
       "<div>\n",
       "<style scoped>\n",
       "    .dataframe tbody tr th:only-of-type {\n",
       "        vertical-align: middle;\n",
       "    }\n",
       "\n",
       "    .dataframe tbody tr th {\n",
       "        vertical-align: top;\n",
       "    }\n",
       "\n",
       "    .dataframe thead th {\n",
       "        text-align: right;\n",
       "    }\n",
       "</style>\n",
       "<table border=\"1\" class=\"dataframe\">\n",
       "  <thead>\n",
       "    <tr style=\"text-align: right;\">\n",
       "      <th></th>\n",
       "      <th>Periode</th>\n",
       "      <th>Indice</th>\n",
       "    </tr>\n",
       "  </thead>\n",
       "  <tbody>\n",
       "    <tr>\n",
       "      <th>0</th>\n",
       "      <td>67</td>\n",
       "      <td>129.72</td>\n",
       "    </tr>\n",
       "    <tr>\n",
       "      <th>1</th>\n",
       "      <td>68</td>\n",
       "      <td>129.38</td>\n",
       "    </tr>\n",
       "    <tr>\n",
       "      <th>2</th>\n",
       "      <td>66</td>\n",
       "      <td>129.03</td>\n",
       "    </tr>\n",
       "    <tr>\n",
       "      <th>3</th>\n",
       "      <td>66</td>\n",
       "      <td>128.45</td>\n",
       "    </tr>\n",
       "    <tr>\n",
       "      <th>4</th>\n",
       "      <td>65</td>\n",
       "      <td>127.77</td>\n",
       "    </tr>\n",
       "    <tr>\n",
       "      <th>...</th>\n",
       "      <td>...</td>\n",
       "      <td>...</td>\n",
       "    </tr>\n",
       "    <tr>\n",
       "      <th>62</th>\n",
       "      <td>7</td>\n",
       "      <td>107.49</td>\n",
       "    </tr>\n",
       "    <tr>\n",
       "      <th>63</th>\n",
       "      <td>6</td>\n",
       "      <td>107.06</td>\n",
       "    </tr>\n",
       "    <tr>\n",
       "      <th>64</th>\n",
       "      <td>5</td>\n",
       "      <td>106.61</td>\n",
       "    </tr>\n",
       "    <tr>\n",
       "      <th>65</th>\n",
       "      <td>4</td>\n",
       "      <td>106.17</td>\n",
       "    </tr>\n",
       "    <tr>\n",
       "      <th>66</th>\n",
       "      <td>3</td>\n",
       "      <td>105.61</td>\n",
       "    </tr>\n",
       "  </tbody>\n",
       "</table>\n",
       "<p>67 rows × 2 columns</p>\n",
       "</div>"
      ],
      "text/plain": [
       "    Periode  Indice\n",
       "0        67  129.72\n",
       "1        68  129.38\n",
       "2        66  129.03\n",
       "3        66  128.45\n",
       "4        65  127.77\n",
       "..      ...     ...\n",
       "62        7  107.49\n",
       "63        6  107.06\n",
       "64        5  106.61\n",
       "65        4  106.17\n",
       "66        3  105.61\n",
       "\n",
       "[67 rows x 2 columns]"
      ]
     },
     "execution_count": 4,
     "metadata": {},
     "output_type": "execute_result"
    }
   ],
   "source": [
    "dataset"
   ]
  },
  {
   "cell_type": "code",
   "execution_count": 5,
   "id": "867f6d06",
   "metadata": {},
   "outputs": [
    {
     "data": {
      "text/plain": [
       "array([[67],\n",
       "       [68],\n",
       "       [66],\n",
       "       [66],\n",
       "       [65],\n",
       "       [64],\n",
       "       [63],\n",
       "       [62],\n",
       "       [61],\n",
       "       [60],\n",
       "       [59],\n",
       "       [58],\n",
       "       [57],\n",
       "       [56],\n",
       "       [55],\n",
       "       [54],\n",
       "       [53],\n",
       "       [52],\n",
       "       [51],\n",
       "       [50],\n",
       "       [49],\n",
       "       [48],\n",
       "       [47],\n",
       "       [46],\n",
       "       [45],\n",
       "       [44],\n",
       "       [43],\n",
       "       [42],\n",
       "       [41],\n",
       "       [40],\n",
       "       [39],\n",
       "       [38],\n",
       "       [37],\n",
       "       [36],\n",
       "       [35],\n",
       "       [34],\n",
       "       [33],\n",
       "       [32],\n",
       "       [31],\n",
       "       [30],\n",
       "       [29],\n",
       "       [28],\n",
       "       [27],\n",
       "       [26],\n",
       "       [25],\n",
       "       [24],\n",
       "       [23],\n",
       "       [22],\n",
       "       [21],\n",
       "       [20],\n",
       "       [19],\n",
       "       [18],\n",
       "       [17],\n",
       "       [16],\n",
       "       [15],\n",
       "       [14],\n",
       "       [13],\n",
       "       [12],\n",
       "       [11],\n",
       "       [10],\n",
       "       [ 9],\n",
       "       [ 8],\n",
       "       [ 7],\n",
       "       [ 6],\n",
       "       [ 5],\n",
       "       [ 4],\n",
       "       [ 3]], dtype=int64)"
      ]
     },
     "execution_count": 5,
     "metadata": {},
     "output_type": "execute_result"
    }
   ],
   "source": [
    "df_x = dataset.iloc[:,:-1].values\n",
    "df_x"
   ]
  },
  {
   "cell_type": "code",
   "execution_count": 6,
   "id": "ed1776ce",
   "metadata": {},
   "outputs": [],
   "source": [
    "df_y = dataset.iloc[:,-1].values"
   ]
  },
  {
   "cell_type": "code",
   "execution_count": 7,
   "id": "30d38260",
   "metadata": {},
   "outputs": [
    {
     "data": {
      "text/html": [
       "<div>\n",
       "<style scoped>\n",
       "    .dataframe tbody tr th:only-of-type {\n",
       "        vertical-align: middle;\n",
       "    }\n",
       "\n",
       "    .dataframe tbody tr th {\n",
       "        vertical-align: top;\n",
       "    }\n",
       "\n",
       "    .dataframe thead th {\n",
       "        text-align: right;\n",
       "    }\n",
       "</style>\n",
       "<table border=\"1\" class=\"dataframe\">\n",
       "  <thead>\n",
       "    <tr style=\"text-align: right;\">\n",
       "      <th></th>\n",
       "      <th>Periode</th>\n",
       "      <th>Indice</th>\n",
       "    </tr>\n",
       "  </thead>\n",
       "  <tbody>\n",
       "    <tr>\n",
       "      <th>0</th>\n",
       "      <td>67</td>\n",
       "      <td>129.72</td>\n",
       "    </tr>\n",
       "    <tr>\n",
       "      <th>1</th>\n",
       "      <td>68</td>\n",
       "      <td>129.38</td>\n",
       "    </tr>\n",
       "    <tr>\n",
       "      <th>2</th>\n",
       "      <td>66</td>\n",
       "      <td>129.03</td>\n",
       "    </tr>\n",
       "    <tr>\n",
       "      <th>3</th>\n",
       "      <td>66</td>\n",
       "      <td>128.45</td>\n",
       "    </tr>\n",
       "    <tr>\n",
       "      <th>4</th>\n",
       "      <td>65</td>\n",
       "      <td>127.77</td>\n",
       "    </tr>\n",
       "  </tbody>\n",
       "</table>\n",
       "</div>"
      ],
      "text/plain": [
       "   Periode  Indice\n",
       "0       67  129.72\n",
       "1       68  129.38\n",
       "2       66  129.03\n",
       "3       66  128.45\n",
       "4       65  127.77"
      ]
     },
     "execution_count": 7,
     "metadata": {},
     "output_type": "execute_result"
    }
   ],
   "source": [
    "dataset.head(5)"
   ]
  },
  {
   "cell_type": "code",
   "execution_count": 75,
   "id": "fc2d385d",
   "metadata": {},
   "outputs": [],
   "source": [
    "x_train, x_test, y_train, y_test  = train_test_split(df_x, df_y, test_size=0.3)"
   ]
  },
  {
   "cell_type": "code",
   "execution_count": 76,
   "id": "cfa06765",
   "metadata": {},
   "outputs": [],
   "source": [
    "regL = linear_model.LinearRegression()"
   ]
  },
  {
   "cell_type": "code",
   "execution_count": 77,
   "id": "94779b07",
   "metadata": {},
   "outputs": [
    {
     "data": {
      "text/plain": [
       "array([[23],\n",
       "       [63],\n",
       "       [67],\n",
       "       [41],\n",
       "       [14],\n",
       "       [55],\n",
       "       [46],\n",
       "       [45],\n",
       "       [11],\n",
       "       [51],\n",
       "       [ 6],\n",
       "       [44],\n",
       "       [37],\n",
       "       [54],\n",
       "       [10],\n",
       "       [49],\n",
       "       [64],\n",
       "       [68],\n",
       "       [59],\n",
       "       [15],\n",
       "       [52],\n",
       "       [32],\n",
       "       [39],\n",
       "       [12],\n",
       "       [21],\n",
       "       [27],\n",
       "       [34],\n",
       "       [28],\n",
       "       [22],\n",
       "       [66],\n",
       "       [62],\n",
       "       [ 5],\n",
       "       [24],\n",
       "       [31],\n",
       "       [40],\n",
       "       [ 3],\n",
       "       [58],\n",
       "       [19],\n",
       "       [33],\n",
       "       [29],\n",
       "       [65],\n",
       "       [20],\n",
       "       [13],\n",
       "       [53],\n",
       "       [56],\n",
       "       [ 8]], dtype=int64)"
      ]
     },
     "execution_count": 77,
     "metadata": {},
     "output_type": "execute_result"
    }
   ],
   "source": [
    "x_train"
   ]
  },
  {
   "cell_type": "code",
   "execution_count": 78,
   "id": "70506d6f",
   "metadata": {},
   "outputs": [
    {
     "data": {
      "text/plain": [
       "array([114.3 , 126.82, 129.72, 122.96, 110.57, 125.28, 124.66, 124.44,\n",
       "       109.2 , 125.29, 107.06, 124.25, 120.31, 125.26, 108.72, 125.15,\n",
       "       127.22, 129.38, 125.5 , 111.01, 125.19, 117.81, 121.68, 109.64,\n",
       "       113.37, 117.54, 118.7 , 117.7 , 113.68, 129.03, 126.46, 106.61,\n",
       "       115.12, 117.47, 122.37, 105.61, 125.33, 112.77, 118.26, 117.59,\n",
       "       127.77, 113.07, 110.08, 125.25, 125.26, 107.8 ])"
      ]
     },
     "execution_count": 78,
     "metadata": {},
     "output_type": "execute_result"
    }
   ],
   "source": [
    "y_train"
   ]
  },
  {
   "cell_type": "code",
   "execution_count": 79,
   "id": "f7803de7",
   "metadata": {},
   "outputs": [
    {
     "data": {
      "text/plain": [
       "array([[36],\n",
       "       [50],\n",
       "       [16],\n",
       "       [61],\n",
       "       [43],\n",
       "       [ 4],\n",
       "       [42],\n",
       "       [18],\n",
       "       [26],\n",
       "       [ 9],\n",
       "       [48],\n",
       "       [38],\n",
       "       [66],\n",
       "       [57],\n",
       "       [17],\n",
       "       [60],\n",
       "       [25],\n",
       "       [30],\n",
       "       [35],\n",
       "       [47],\n",
       "       [ 7]], dtype=int64)"
      ]
     },
     "execution_count": 79,
     "metadata": {},
     "output_type": "execute_result"
    }
   ],
   "source": [
    "x_test"
   ]
  },
  {
   "cell_type": "code",
   "execution_count": 80,
   "id": "61373aee",
   "metadata": {},
   "outputs": [
    {
     "data": {
      "text/plain": [
       "array([119.69, 125.24, 111.47, 126.19, 123.97, 106.17, 123.55, 112.43,\n",
       "       117.03, 108.28, 125.  , 120.95, 128.45, 125.25, 111.98, 125.9 ,\n",
       "       116.07, 117.41, 119.17, 124.83, 107.49])"
      ]
     },
     "execution_count": 80,
     "metadata": {},
     "output_type": "execute_result"
    }
   ],
   "source": [
    "y_test"
   ]
  },
  {
   "cell_type": "code",
   "execution_count": 81,
   "id": "676725d3",
   "metadata": {},
   "outputs": [
    {
     "data": {
      "text/plain": [
       "LinearRegression()"
      ]
     },
     "execution_count": 81,
     "metadata": {},
     "output_type": "execute_result"
    }
   ],
   "source": [
    "regL.fit(x_train, y_train)"
   ]
  },
  {
   "cell_type": "code",
   "execution_count": 82,
   "id": "76a5a86a",
   "metadata": {},
   "outputs": [],
   "source": [
    "predict = regL.predict(x_test)"
   ]
  },
  {
   "cell_type": "code",
   "execution_count": 83,
   "id": "938b00a5",
   "metadata": {},
   "outputs": [
    {
     "data": {
      "text/plain": [
       "array([118.95265439, 123.95990838, 111.79943441, 127.89417937,\n",
       "       121.45628138, 107.50750243, 121.09862039, 112.51475641,\n",
       "       115.3760444 , 109.29580742, 123.24458638, 119.66797639,\n",
       "       129.68248436, 126.46353537, 112.15709541, 127.53651837,\n",
       "       115.0183834 , 116.8066884 , 118.59499339, 122.88692538,\n",
       "       108.58048542])"
      ]
     },
     "execution_count": 83,
     "metadata": {},
     "output_type": "execute_result"
    }
   ],
   "source": [
    "predict"
   ]
  },
  {
   "cell_type": "code",
   "execution_count": null,
   "id": "e1b5925e",
   "metadata": {},
   "outputs": [
    {
     "data": {
      "image/png": "[encoded data removed]",
      "text/plain": [
       "<Figure size 432x288 with 1 Axes>"
      ]
     },
     "metadata": {
      "needs_background": "light"
     },
     "output_type": "display_data"
    }
   ],
   "source": [
    "plt.scatter(x_test, y_test, color='red')\n",
    "plt.plot(x_test, predict, color='blue')\n",
    "plt.title('Evolution des loyers')\n",
    "plt.xlabel('Trimestre')\n",
    "plt.ylabel('Loyer')\n",
    "plt.show()"
   ]
  }
 ],
 "metadata": {
  "kernelspec": {
   "display_name": "Python 3 (ipykernel)",
   "language": "python",
   "name": "python3"
  },
  "language_info": {
   "codemirror_mode": {
    "name": "ipython",
    "version": 3
   },
   "file_extension": ".py",
   "mimetype": "text/x-python",
   "name": "python",
   "nbconvert_exporter": "python",
   "pygments_lexer": "ipython3",
   "version": "3.9.12"
  },
  "vscode": {
   "interpreter": {
    "hash": "102cac2ccbb805ae9662f6c5d57a549736cc612d5df24544c713375c8a6f07bd"
   }
  }
 },
 "nbformat": 4,
 "nbformat_minor": 5
}
